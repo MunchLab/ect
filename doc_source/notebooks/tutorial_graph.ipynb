{
 "cells": [
  {
   "cell_type": "markdown",
   "id": "e355a361",
   "metadata": {},
   "source": [
    "# Tutorial: ECT for Embedded Graphs\n",
    "\n",
    "This tutorial demonstrates how to use the `ect` package..."
   ]
  },
  {
   "cell_type": "code",
   "execution_count": null,
   "id": "02213af8",
   "metadata": {},
   "outputs": [],
   "source": [
    "from ect import ECT, EmbeddedGraph\n",
    "\n",
    "import numpy as np"
   ]
  },
  {
   "cell_type": "markdown",
   "id": "65e32df7",
   "metadata": {},
   "source": [
    "## Basic Usage\n",
    "\n",
    "First, let's create a simple graph"
   ]
  },
  {
   "cell_type": "code",
   "execution_count": null,
   "id": "c9181c81",
   "metadata": {
    "lines_to_next_cell": 0
   },
   "outputs": [],
   "source": [
    "# Construct an example graph\n",
    "# Note that this is the same graph that is returned by:\n",
    "# G = create_example_graph()\n",
    "\n",
    "G = EmbeddedGraph()\n",
    "\n",
    "G.add_node(\"A\", [1, 2])\n",
    "G.add_node(\"B\", [3, 4])\n",
    "G.add_node(\"C\", [5, 7])\n",
    "G.add_node(\"D\", [3, 6])\n",
    "G.add_node(\"E\", [4, 3])\n",
    "G.add_node(\"F\", [4, 5])\n",
    "\n",
    "G.add_edge(\"A\", \"B\")\n",
    "G.add_edge(\"B\", \"C\")\n",
    "G.add_edge(\"B\", \"D\")\n",
    "G.add_edge(\"B\", \"E\")\n",
    "G.add_edge(\"C\", \"D\")\n",
    "G.add_edge(\"E\", \"F\")\n",
    "\n",
    "G.plot()"
   ]
  },
  {
   "cell_type": "markdown",
   "id": "cc3ff4fa",
   "metadata": {},
   "source": [
    "The embedded graph class inherits from the networkx graph class with the additional attributes `coord_matrix` and `coord_dict`.\n",
    "The coordinates of all vertices can be accessed using the `coord_matrix` attribute."
   ]
  },
  {
   "cell_type": "code",
   "execution_count": null,
   "id": "f6a9a283",
   "metadata": {},
   "outputs": [],
   "source": [
    "G.coord_matrix"
   ]
  },
  {
   "cell_type": "markdown",
   "id": "f8f50d18",
   "metadata": {},
   "source": [
    "It's often useful to center the graph, so you can use the `center_coordinates` method shift the graph to have the average of the vertex coordinates be 0. Note that this does overwrite the coordinates of the points."
   ]
  },
  {
   "cell_type": "code",
   "execution_count": null,
   "id": "237460e6",
   "metadata": {
    "lines_to_next_cell": 0
   },
   "outputs": [],
   "source": [
    "G.center_coordinates(center_type=\"mean\")\n",
    "print(G.coord_matrix)\n",
    "G.plot()"
   ]
  },
  {
   "cell_type": "markdown",
   "id": "51f28ea1",
   "metadata": {},
   "source": [
    "To get a bounding radius we can use the `get_bounding_radius` method."
   ]
  },
  {
   "cell_type": "code",
   "execution_count": null,
   "id": "cb4d6c51",
   "metadata": {
    "lines_to_next_cell": 2
   },
   "outputs": [],
   "source": [
    "# This is actually getting the radius\n",
    "r = G.get_bounding_radius()\n",
    "print(f\"The radius of bounding circle centered at the origin is {r}\")\n",
    "\n",
    "# plotting the graph with it's bounding circle of radius r.\n",
    "G.plot(bounding_circle=True)"
   ]
  },
  {
   "cell_type": "markdown",
   "id": "7f5a5beb",
   "metadata": {},
   "source": [
    "We can also rescale our graph to have unit radius using `scale_coordinates`"
   ]
  },
  {
   "cell_type": "code",
   "execution_count": null,
   "id": "0f847376",
   "metadata": {
    "lines_to_next_cell": 2
   },
   "outputs": [],
   "source": [
    "G.scale_coordinates(radius=1)\n",
    "G.plot(bounding_circle=True)\n",
    "\n",
    "r = G.get_bounding_radius()\n",
    "print(f\"The radius of bounding circle centered at the origin is {r}\")"
   ]
  },
  {
   "cell_type": "code",
   "execution_count": null,
   "id": "f2092dec",
   "metadata": {},
   "outputs": [],
   "source": [
    "myect = ECT(num_dirs=16, num_thresh=20)\n",
    "\n",
    "# The ECT object will automatically create directions when needed\n",
    "print(f\"Number of directions: {myect.num_dirs}\")\n",
    "print(f\"Number of thresholds: {myect.num_thresh}\")"
   ]
  },
  {
   "cell_type": "markdown",
   "id": "d1a7c595",
   "metadata": {},
   "source": [
    "We can set the bounding radius as follows. Note that some methods will automatically use the bounding radius of the input `G` if not already set. I'm choosing the radius to be a bit bigger than the bounding radius of `G` to make some better pictures."
   ]
  },
  {
   "cell_type": "code",
   "execution_count": null,
   "id": "fba51491",
   "metadata": {},
   "outputs": [],
   "source": [
    "myect.set_bounding_radius(1.2 * G.get_bounding_radius())\n",
    "\n",
    "print(f\"Internally set radius is: {myect.bound_radius}\")\n",
    "print(f\"Thresholds chosen are: {myect.thresholds}\")"
   ]
  },
  {
   "cell_type": "markdown",
   "id": "cc37a8e8",
   "metadata": {},
   "source": [
    "If we want the Euler characteristic curve for a fixed direction, we use the `calculate` function with a specific angle. This returns an ECTResult object containing the computed values."
   ]
  },
  {
   "cell_type": "code",
   "execution_count": null,
   "id": "81f93442",
   "metadata": {},
   "outputs": [],
   "source": [
    "result = myect.calculate(G, theta=np.pi / 2)\n",
    "print(f\"ECT values for direction pi/2: {result[0]}\")"
   ]
  },
  {
   "cell_type": "markdown",
   "id": "8e653f41",
   "metadata": {},
   "source": [
    "To calculate the full ECT, we call the `calculate` method without specifying theta. The result returns the ECT matrix and associated metadata."
   ]
  },
  {
   "cell_type": "code",
   "execution_count": null,
   "id": "9d3466c7",
   "metadata": {
    "lines_to_next_cell": 0
   },
   "outputs": [],
   "source": [
    "result = myect.calculate(G)\n",
    "\n",
    "print(f\"ECT matrix shape: {result.shape}\")\n",
    "print(f\"Number of directions: {myect.num_dirs}\")\n",
    "print(f\"Number of thresholds: {myect.num_thresh}\")\n",
    "\n",
    "# We can plot the result matrix\n",
    "result.plot()"
   ]
  },
  {
   "cell_type": "markdown",
   "id": "d5f6791c",
   "metadata": {},
   "source": [
    "## SECT\n",
    "\n",
    "The Smooth Euler Characteristic Transform (SECT) can be calculated from the ECT. Fix a radius $R$ bounding the graph. The average ECT in a direction $\\omega$ defined on function values $[-R,R]$ is given by\n",
    "$$\\overline{\\text{ECT}_\\omega} = \\frac{1}{2R} \\int_{t = -R}^{R} \\chi(g_\\omega^{-1}(-\\infty,t]) \\; dt. $$\n",
    "Then the SECT is defined by\n",
    "$$\n",
    "\\begin{matrix}\n",
    "\\text{SECT}(G): & \\mathbb{S}^1 & \\to & \\text{Func}(\\mathbb{R}, \\mathbb{Z})\\\\\n",
    "& \\omega & \\mapsto & \\{ t \\mapsto \\int_{-R}^t \\left( \\chi(g_\\omega^{-1}(-\\infty,a]) -\\overline{\\text{ECT}_\\omega}\\right)\\:da \\}\n",
    "\\end{matrix}\n",
    "$$"
   ]
  },
  {
   "cell_type": "markdown",
   "id": "3ca793e3",
   "metadata": {},
   "source": [
    "The SECT can be computed from the ECT result:"
   ]
  },
  {
   "cell_type": "code",
   "execution_count": null,
   "id": "ee988b05",
   "metadata": {},
   "outputs": [],
   "source": [
    "sect = result.smooth()\n",
    "\n",
    "sect.plot()"
   ]
  }
 ],
 "metadata": {
  "jupytext": {
   "cell_metadata_filter": "-all",
   "main_language": "python",
   "notebook_metadata_filter": "-all"
  }
 },
 "nbformat": 4,
 "nbformat_minor": 5
}
