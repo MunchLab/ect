{
 "cells": [
  {
   "cell_type": "markdown",
   "id": "9f9f6d6e",
   "metadata": {},
   "source": [
    "# Tutorial: ECT for CW complexes\n",
    "\n",
    "This tutorial walks you through how to build a CW complex with the `EmbeddedCW` class, and then use the `ECT` class to compute the Euler characteristic transform"
   ]
  },
  {
   "cell_type": "code",
   "execution_count": null,
   "id": "4a35f1c3",
   "metadata": {},
   "outputs": [],
   "source": [
    "from ect import ECT, EmbeddedCW\n",
    "from ect.utils.examples import create_example_cw\n",
    "import numpy as np"
   ]
  },
  {
   "cell_type": "markdown",
   "id": "3c7350c4",
   "metadata": {},
   "source": [
    "The CW complex is the same as the `EmbeddedGraph` class with that additional ability to add faces. Faces are added by passing in a list of vertices. Note that we are generally assuming that these vertices follow around an empty region (as in, no other vertex is in the interior) in the graph bounded by the vertices, and further that all edges are already included in the graph. However the class does not yet check for this so you need to be careful!"
   ]
  },
  {
   "cell_type": "code",
   "execution_count": null,
   "id": "13ad5d65",
   "metadata": {},
   "outputs": [],
   "source": [
    "K = EmbeddedCW()\n",
    "\n",
    "# Add vertices with coordinates\n",
    "K.add_node(\"A\", [0, 0])\n",
    "K.add_node(\"B\", [1, 0])\n",
    "K.add_node(\"C\", [1, 1])\n",
    "K.add_node(\"D\", [0, 1])\n",
    "\n",
    "# Add edges to form a square\n",
    "K.add_edges_from([(\"A\", \"B\"), (\"B\", \"C\"), (\"C\", \"D\"), (\"D\", \"A\")])\n",
    "\n",
    "# Add the square face\n",
    "K.add_face([\"A\", \"B\", \"C\", \"D\"])\n",
    "\n",
    "K.center_coordinates()\n",
    "K.plot()"
   ]
  },
  {
   "cell_type": "markdown",
   "id": "f41f8407",
   "metadata": {},
   "source": [
    "Just to have something a bit more interesting, let's make a more complicated example that's built into the class."
   ]
  },
  {
   "cell_type": "code",
   "execution_count": null,
   "id": "207c5145",
   "metadata": {
    "lines_to_next_cell": 2
   },
   "outputs": [],
   "source": [
    "K = create_example_cw()\n",
    "K.plot(bounding_circle=True)"
   ]
  },
  {
   "cell_type": "markdown",
   "id": "4a75011a",
   "metadata": {},
   "source": [
    "As with the `EmbeddedGraph` class, we can initialize the `ECT` class by deciding how many directions and how many thresholds to use."
   ]
  },
  {
   "cell_type": "code",
   "execution_count": null,
   "id": "2fd66086",
   "metadata": {},
   "outputs": [],
   "source": [
    "ect = ECT(num_dirs=100, num_thresh=80)"
   ]
  },
  {
   "cell_type": "markdown",
   "id": "263c21e6",
   "metadata": {},
   "source": [
    "Then we can compute the ECC for a single direction. In this case, the $x$-axis will be computed for the `num_thresh=80` stopping points in the interval $[-1.2r,1.2r]$ where $r$ is the minimum bounding radius for the input complex."
   ]
  },
  {
   "cell_type": "code",
   "execution_count": null,
   "id": "a3d7c232",
   "metadata": {},
   "outputs": [],
   "source": [
    "result = ect.calculate(K, theta=0)\n",
    "result.plot()"
   ]
  },
  {
   "cell_type": "markdown",
   "id": "b00681d7",
   "metadata": {},
   "source": [
    "But of course it's easier to see this in a plot. This command calculates the ECC and immediately plots it."
   ]
  },
  {
   "cell_type": "code",
   "execution_count": null,
   "id": "92e9b95b",
   "metadata": {},
   "outputs": [],
   "source": [
    "# Set bounding radius to control threshold range\n",
    "radius = K.get_bounding_radius()\n",
    "ect.set_bounding_radius(1.2 * radius)"
   ]
  },
  {
   "cell_type": "markdown",
   "id": "4798c76c",
   "metadata": {},
   "source": [
    "Similarly, we can compute the ECT and return the matrix. We make sure to internally set the bounding radius to use to control the $y$ axis of the plot."
   ]
  },
  {
   "cell_type": "code",
   "execution_count": null,
   "id": "ed9442d5",
   "metadata": {},
   "outputs": [],
   "source": [
    "result = ect.calculate(K)\n",
    "result.plot()"
   ]
  },
  {
   "cell_type": "markdown",
   "id": "9179cfe6",
   "metadata": {},
   "source": [
    "We can also look at the Smooth ECT:"
   ]
  },
  {
   "cell_type": "code",
   "execution_count": null,
   "id": "062782e2",
   "metadata": {},
   "outputs": [],
   "source": [
    "# Calculate SECT and plot\n",
    "smooth = result.smooth()\n",
    "smooth.plot()"
   ]
  }
 ],
 "metadata": {
  "jupytext": {
   "cell_metadata_filter": "-all",
   "main_language": "python",
   "notebook_metadata_filter": "-all"
  }
 },
 "nbformat": 4,
 "nbformat_minor": 5
}
