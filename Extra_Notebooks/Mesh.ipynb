{
 "cells": [
  {
   "cell_type": "code",
   "execution_count": 2,
   "metadata": {},
   "outputs": [
    {
     "name": "stdout",
     "output_type": "stream",
     "text": [
      "1 0\n",
      "4 5\n",
      "9 8\n",
      "10 1\n"
     ]
    }
   ],
   "source": [
    "from CGAL.CGAL_Kernel import Point_2\n",
    "from CGAL.CGAL_Triangulation_2 import Triangulation_2\n",
    "from CGAL.CGAL_Triangulation_2 import Triangulation_2_Vertex_circulator\n",
    "from CGAL.CGAL_Triangulation_2 import Triangulation_2_Vertex_handle\n",
    "\n",
    "points=[]\n",
    "points.append( Point_2(1,0) )\n",
    "points.append( Point_2(3,2) )\n",
    "points.append( Point_2(4,5) )\n",
    "points.append( Point_2(9,8) )\n",
    "points.append( Point_2(7,4) )\n",
    "points.append( Point_2(5,2) )\n",
    "points.append( Point_2(6,3) )\n",
    "points.append( Point_2(10,1) )\n",
    "  \n",
    "t=Triangulation_2()\n",
    "t.insert(points)\n",
    "\n",
    "vc = t.incident_vertices(t.infinite_vertex())\n",
    "\n",
    "if vc.hasNext():\n",
    "  done = vc.next();\n",
    "  iter=Triangulation_2_Vertex_handle()\n",
    "  while(1):\n",
    "    iter=vc.next()\n",
    "    print (iter.point())\n",
    "    if iter == done:\n",
    "      break\n"
   ]
  },
  {
   "cell_type": "code",
   "execution_count": null,
   "metadata": {},
   "outputs": [],
   "source": []
  }
 ],
 "metadata": {
  "kernelspec": {
   "display_name": "base",
   "language": "python",
   "name": "python3"
  },
  "language_info": {
   "codemirror_mode": {
    "name": "ipython",
    "version": 3
   },
   "file_extension": ".py",
   "mimetype": "text/x-python",
   "name": "python",
   "nbconvert_exporter": "python",
   "pygments_lexer": "ipython3",
   "version": "3.11.7"
  }
 },
 "nbformat": 4,
 "nbformat_minor": 2
}
